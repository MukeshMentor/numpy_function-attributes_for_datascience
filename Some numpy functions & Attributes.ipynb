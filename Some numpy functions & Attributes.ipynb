{
 "cells": [
  {
   "cell_type": "code",
   "execution_count": 1,
   "id": "a0ba5e8c",
   "metadata": {},
   "outputs": [],
   "source": [
    "import numpy as np"
   ]
  },
  {
   "cell_type": "code",
   "execution_count": 2,
   "id": "32dab274",
   "metadata": {},
   "outputs": [
    {
     "name": "stdout",
     "output_type": "stream",
     "text": [
      "[1 2 3 4 5]\n",
      "1-Dimentional Array\n"
     ]
    }
   ],
   "source": [
    "# 1-Dimentional Array\n",
    "\n",
    "myarray=np.array([1,2,3,4,5])\n",
    "\n",
    "print(myarray)\n",
    "\n",
    "print(\"1-Dimentional Array\")"
   ]
  },
  {
   "cell_type": "code",
   "execution_count": 3,
   "id": "09305535",
   "metadata": {},
   "outputs": [
    {
     "data": {
      "text/plain": [
       "numpy.ndarray"
      ]
     },
     "execution_count": 3,
     "metadata": {},
     "output_type": "execute_result"
    }
   ],
   "source": [
    "type(myarray)"
   ]
  },
  {
   "cell_type": "code",
   "execution_count": 4,
   "id": "e922d05a",
   "metadata": {},
   "outputs": [
    {
     "name": "stdout",
     "output_type": "stream",
     "text": [
      "[[1 2 3]\n",
      " [4 5 6]]\n",
      "2 - D array\n"
     ]
    }
   ],
   "source": [
    "# 2-D array\n",
    "\n",
    "myarray2=np.array([[1,2,3],[4,5,6]])\n",
    "print(myarray2)\n",
    "\n",
    "print(\"2 - D array\")\n"
   ]
  },
  {
   "cell_type": "code",
   "execution_count": 5,
   "id": "8f8c84dc",
   "metadata": {},
   "outputs": [
    {
     "data": {
      "text/plain": [
       "numpy.ndarray"
      ]
     },
     "execution_count": 5,
     "metadata": {},
     "output_type": "execute_result"
    }
   ],
   "source": [
    "type(myarray2)"
   ]
  },
  {
   "cell_type": "code",
   "execution_count": 6,
   "id": "c7daf3af",
   "metadata": {},
   "outputs": [
    {
     "data": {
      "text/plain": [
       "array([[0., 0., 0.],\n",
       "       [0., 0., 0.]])"
      ]
     },
     "execution_count": 6,
     "metadata": {},
     "output_type": "execute_result"
    }
   ],
   "source": [
    "# used zeros() function.\n",
    "\n",
    "myarray3=np.zeros((2,3))\n",
    "myarray3"
   ]
  },
  {
   "cell_type": "code",
   "execution_count": 7,
   "id": "bee556a9",
   "metadata": {},
   "outputs": [
    {
     "data": {
      "text/plain": [
       "array([[1., 1., 1.],\n",
       "       [1., 1., 1.],\n",
       "       [1., 1., 1.]])"
      ]
     },
     "execution_count": 7,
     "metadata": {},
     "output_type": "execute_result"
    }
   ],
   "source": [
    "# used ones() functions.\n",
    "\n",
    "myarray4=np.ones((3,3))\n",
    "myarray4"
   ]
  },
  {
   "cell_type": "code",
   "execution_count": 8,
   "id": "c0e907a7",
   "metadata": {},
   "outputs": [
    {
     "data": {
      "text/plain": [
       "array([[1., 0., 0., 0., 0.],\n",
       "       [0., 1., 0., 0., 0.],\n",
       "       [0., 0., 1., 0., 0.],\n",
       "       [0., 0., 0., 1., 0.],\n",
       "       [0., 0., 0., 0., 1.]])"
      ]
     },
     "execution_count": 8,
     "metadata": {},
     "output_type": "execute_result"
    }
   ],
   "source": [
    "# used Identity() functions.\n",
    "\n",
    "myarray5=np.identity(5)\n",
    "myarray5"
   ]
  },
  {
   "cell_type": "code",
   "execution_count": 9,
   "id": "c113f820",
   "metadata": {},
   "outputs": [
    {
     "data": {
      "text/plain": [
       "array([0, 1, 2, 3, 4, 5, 6, 7, 8, 9])"
      ]
     },
     "execution_count": 9,
     "metadata": {},
     "output_type": "execute_result"
    }
   ],
   "source": [
    "# used arange() function to generate a array \n",
    "\n",
    "myarray6=np.arange(10)\n",
    "myarray6"
   ]
  },
  {
   "cell_type": "code",
   "execution_count": 10,
   "id": "977820af",
   "metadata": {},
   "outputs": [
    {
     "data": {
      "text/plain": [
       "array([ 5,  6,  7,  8,  9, 10, 11, 12, 13, 14, 15])"
      ]
     },
     "execution_count": 10,
     "metadata": {},
     "output_type": "execute_result"
    }
   ],
   "source": [
    "# how to get 5 to 15 number with the help of arange() function.\n",
    "\n",
    "myarray7=np.arange(5,16)\n",
    "myarray7"
   ]
  },
  {
   "cell_type": "code",
   "execution_count": 11,
   "id": "3fce364c",
   "metadata": {},
   "outputs": [
    {
     "data": {
      "text/plain": [
       "array([ 1,  4,  7, 10, 13, 16, 19])"
      ]
     },
     "execution_count": 11,
     "metadata": {},
     "output_type": "execute_result"
    }
   ],
   "source": [
    "# it is similar to range() in python.\n",
    "# arange(starting values,last values,step values)\n",
    "\n",
    "myarray8=np.arange(1,20,3)\n",
    "myarray8"
   ]
  },
  {
   "cell_type": "code",
   "execution_count": 12,
   "id": "4e9b52bf",
   "metadata": {},
   "outputs": [
    {
     "data": {
      "text/plain": [
       "array([10.        , 11.11111111, 12.22222222, 13.33333333, 14.44444444,\n",
       "       15.55555556, 16.66666667, 17.77777778, 18.88888889, 20.        ])"
      ]
     },
     "execution_count": 12,
     "metadata": {},
     "output_type": "execute_result"
    }
   ],
   "source": [
    "# used linspace(lower range, upper range , jump) used 3 parameters\n",
    "\n",
    "myarray9=np.linspace(10,20,10)\n",
    "myarray9\n"
   ]
  },
  {
   "cell_type": "code",
   "execution_count": 13,
   "id": "1ac5c7bd",
   "metadata": {},
   "outputs": [
    {
     "data": {
      "text/plain": [
       "array([10.        , 11.11111111, 12.22222222, 13.33333333, 14.44444444,\n",
       "       15.55555556, 16.66666667, 17.77777778, 18.88888889, 20.        ])"
      ]
     },
     "execution_count": 13,
     "metadata": {},
     "output_type": "execute_result"
    }
   ],
   "source": [
    "# used copy() functions\n",
    "\n",
    "myarray10=myarray9.copy()\n",
    "myarray10"
   ]
  },
  {
   "cell_type": "markdown",
   "id": "e27eb453",
   "metadata": {},
   "source": [
    "## some important attributes and properties. "
   ]
  },
  {
   "cell_type": "code",
   "execution_count": 14,
   "id": "6d72ce06",
   "metadata": {},
   "outputs": [],
   "source": [
    "# 1.shape\n",
    "# 2.ndim\n",
    "# 3.size\n",
    "# 4.itemsize\n",
    "# 5.Dtype\n",
    "# 6.astype()"
   ]
  },
  {
   "cell_type": "code",
   "execution_count": 15,
   "id": "8100106d",
   "metadata": {},
   "outputs": [
    {
     "data": {
      "text/plain": [
       "(5,)"
      ]
     },
     "execution_count": 15,
     "metadata": {},
     "output_type": "execute_result"
    }
   ],
   "source": [
    "# used shape() attributes\n",
    "\n",
    "myarray.shape"
   ]
  },
  {
   "cell_type": "code",
   "execution_count": 16,
   "id": "d4e51f8c",
   "metadata": {},
   "outputs": [
    {
     "data": {
      "text/plain": [
       "(2, 3)"
      ]
     },
     "execution_count": 16,
     "metadata": {},
     "output_type": "execute_result"
    }
   ],
   "source": [
    "myarray2.shape"
   ]
  },
  {
   "cell_type": "code",
   "execution_count": 17,
   "id": "7c226530",
   "metadata": {},
   "outputs": [
    {
     "data": {
      "text/plain": [
       "1"
      ]
     },
     "execution_count": 17,
     "metadata": {},
     "output_type": "execute_result"
    }
   ],
   "source": [
    " # used ndim (dimentional ) matrix\n",
    "    \n",
    "myarray.ndim"
   ]
  },
  {
   "cell_type": "code",
   "execution_count": 18,
   "id": "04c73601",
   "metadata": {},
   "outputs": [
    {
     "data": {
      "text/plain": [
       "2"
      ]
     },
     "execution_count": 18,
     "metadata": {},
     "output_type": "execute_result"
    }
   ],
   "source": [
    "myarray2.ndim"
   ]
  },
  {
   "cell_type": "code",
   "execution_count": 19,
   "id": "14e58e81",
   "metadata": {},
   "outputs": [
    {
     "data": {
      "text/plain": [
       "array([[[1, 2],\n",
       "        [2, 3]],\n",
       "\n",
       "       [[4, 5],\n",
       "        [6, 7]]])"
      ]
     },
     "execution_count": 19,
     "metadata": {},
     "output_type": "execute_result"
    }
   ],
   "source": [
    "# create 3-D array \n",
    "\n",
    "myarray11=np.array([[[1,2],[2,3]],[[4,5],[6,7]]])\n",
    "myarray11"
   ]
  },
  {
   "cell_type": "code",
   "execution_count": 20,
   "id": "21af10a4",
   "metadata": {},
   "outputs": [
    {
     "data": {
      "text/plain": [
       "3"
      ]
     },
     "execution_count": 20,
     "metadata": {},
     "output_type": "execute_result"
    }
   ],
   "source": [
    "myarray11.ndim"
   ]
  },
  {
   "cell_type": "code",
   "execution_count": 21,
   "id": "aefcb661",
   "metadata": {},
   "outputs": [
    {
     "data": {
      "text/plain": [
       "(2, 2, 2)"
      ]
     },
     "execution_count": 21,
     "metadata": {},
     "output_type": "execute_result"
    }
   ],
   "source": [
    "myarray11.shape"
   ]
  },
  {
   "cell_type": "code",
   "execution_count": 22,
   "id": "8aae11f9",
   "metadata": {},
   "outputs": [
    {
     "data": {
      "text/plain": [
       "5"
      ]
     },
     "execution_count": 22,
     "metadata": {},
     "output_type": "execute_result"
    }
   ],
   "source": [
    "myarray.size"
   ]
  },
  {
   "cell_type": "code",
   "execution_count": 23,
   "id": "403fa119",
   "metadata": {},
   "outputs": [
    {
     "data": {
      "text/plain": [
       "dtype('int32')"
      ]
     },
     "execution_count": 23,
     "metadata": {},
     "output_type": "execute_result"
    }
   ],
   "source": [
    "myarray.dtype"
   ]
  },
  {
   "cell_type": "code",
   "execution_count": 24,
   "id": "4c9f3671",
   "metadata": {},
   "outputs": [
    {
     "data": {
      "text/plain": [
       "10"
      ]
     },
     "execution_count": 24,
     "metadata": {},
     "output_type": "execute_result"
    }
   ],
   "source": [
    "myarray9.size"
   ]
  },
  {
   "cell_type": "code",
   "execution_count": 25,
   "id": "a8ebddaa",
   "metadata": {},
   "outputs": [
    {
     "data": {
      "text/plain": [
       "dtype('float64')"
      ]
     },
     "execution_count": 25,
     "metadata": {},
     "output_type": "execute_result"
    }
   ],
   "source": [
    "myarray9.dtype"
   ]
  },
  {
   "cell_type": "markdown",
   "id": "2a1ad2df",
   "metadata": {},
   "source": [
    "## Compare Numpy & List "
   ]
  },
  {
   "cell_type": "markdown",
   "id": "b2926ef6",
   "metadata": {},
   "source": [
    "### numpy is faster to campare to list"
   ]
  },
  {
   "cell_type": "code",
   "execution_count": 26,
   "id": "07f1b6d5",
   "metadata": {},
   "outputs": [],
   "source": [
    "# example \n",
    "\n",
    "list=range(100)\n",
    "array1=np.arange(100)"
   ]
  },
  {
   "cell_type": "code",
   "execution_count": 27,
   "id": "b07dbc30",
   "metadata": {},
   "outputs": [],
   "source": [
    "import sys"
   ]
  },
  {
   "cell_type": "code",
   "execution_count": 28,
   "id": "f514ef6b",
   "metadata": {},
   "outputs": [
    {
     "name": "stdout",
     "output_type": "stream",
     "text": [
      "2800\n"
     ]
    }
   ],
   "source": [
    "print(sys.getsizeof(85)*len(list))"
   ]
  },
  {
   "cell_type": "code",
   "execution_count": 29,
   "id": "c34afdb3",
   "metadata": {},
   "outputs": [
    {
     "name": "stdout",
     "output_type": "stream",
     "text": [
      "400\n"
     ]
    }
   ],
   "source": [
    "print(array1.itemsize*array1.size)"
   ]
  },
  {
   "cell_type": "markdown",
   "id": "06e4d521",
   "metadata": {},
   "source": [
    "### indexing , slicing and iteration on numpy"
   ]
  },
  {
   "cell_type": "code",
   "execution_count": 30,
   "id": "0cae01fa",
   "metadata": {},
   "outputs": [
    {
     "data": {
      "text/plain": [
       "array([ 0,  1,  2,  3,  4,  5,  6,  7,  8,  9, 10, 11, 12, 13, 14, 15, 16,\n",
       "       17, 18, 19, 20, 21, 22, 23])"
      ]
     },
     "execution_count": 30,
     "metadata": {},
     "output_type": "execute_result"
    }
   ],
   "source": [
    "# used reshape() functio\n",
    "\n",
    "array2=np.arange(24)\n",
    "array2"
   ]
  },
  {
   "cell_type": "code",
   "execution_count": 31,
   "id": "9c879dda",
   "metadata": {},
   "outputs": [
    {
     "data": {
      "text/plain": [
       "array([[ 0,  1,  2,  3],\n",
       "       [ 4,  5,  6,  7],\n",
       "       [ 8,  9, 10, 11],\n",
       "       [12, 13, 14, 15],\n",
       "       [16, 17, 18, 19],\n",
       "       [20, 21, 22, 23]])"
      ]
     },
     "execution_count": 31,
     "metadata": {},
     "output_type": "execute_result"
    }
   ],
   "source": [
    "# used reshape() function\n",
    "\n",
    "\n",
    "array2=np.arange(24).reshape(6,4)\n",
    "array2\n"
   ]
  },
  {
   "cell_type": "code",
   "execution_count": 32,
   "id": "892c7490",
   "metadata": {},
   "outputs": [
    {
     "data": {
      "text/plain": [
       "array([ 8,  9, 10, 11])"
      ]
     },
     "execution_count": 32,
     "metadata": {},
     "output_type": "execute_result"
    }
   ],
   "source": [
    "# we get 3rd row\n",
    "\n",
    "array2[2]"
   ]
  },
  {
   "cell_type": "code",
   "execution_count": 33,
   "id": "5e9fc4f2",
   "metadata": {},
   "outputs": [
    {
     "data": {
      "text/plain": [
       "array([ 2,  6, 10, 14, 18, 22])"
      ]
     },
     "execution_count": 33,
     "metadata": {},
     "output_type": "execute_result"
    }
   ],
   "source": [
    "# how to get 3rd column \n",
    "\n",
    "array2[:,2]"
   ]
  },
  {
   "cell_type": "code",
   "execution_count": 34,
   "id": "299edb7e",
   "metadata": {},
   "outputs": [
    {
     "data": {
      "text/plain": [
       "array([[ 1,  2],\n",
       "       [ 5,  6],\n",
       "       [ 9, 10],\n",
       "       [13, 14],\n",
       "       [17, 18],\n",
       "       [21, 22]])"
      ]
     },
     "execution_count": 34,
     "metadata": {},
     "output_type": "execute_result"
    }
   ],
   "source": [
    "array2[:,1:3]"
   ]
  },
  {
   "cell_type": "code",
   "execution_count": 35,
   "id": "fda2af9c",
   "metadata": {},
   "outputs": [
    {
     "data": {
      "text/plain": [
       "array([[ 9, 10],\n",
       "       [13, 14]])"
      ]
     },
     "execution_count": 35,
     "metadata": {},
     "output_type": "execute_result"
    }
   ],
   "source": [
    "array2[2:4,1:3]"
   ]
  },
  {
   "cell_type": "code",
   "execution_count": 36,
   "id": "69ffc842",
   "metadata": {},
   "outputs": [
    {
     "name": "stdout",
     "output_type": "stream",
     "text": [
      "[0 1 2 3]\n",
      "[4 5 6 7]\n",
      "[ 8  9 10 11]\n",
      "[12 13 14 15]\n",
      "[16 17 18 19]\n",
      "[20 21 22 23]\n"
     ]
    }
   ],
   "source": [
    "# Apply iterations\n",
    "\n",
    "for i in array2:\n",
    "    print(i)\n"
   ]
  },
  {
   "cell_type": "code",
   "execution_count": 37,
   "id": "9ae38b82",
   "metadata": {},
   "outputs": [
    {
     "name": "stdout",
     "output_type": "stream",
     "text": [
      "0\n",
      "1\n",
      "2\n",
      "3\n",
      "4\n",
      "5\n",
      "6\n",
      "7\n",
      "8\n",
      "9\n",
      "10\n",
      "11\n",
      "12\n",
      "13\n",
      "14\n",
      "15\n",
      "16\n",
      "17\n",
      "18\n",
      "19\n",
      "20\n",
      "21\n",
      "22\n",
      "23\n"
     ]
    }
   ],
   "source": [
    "for i in np.nditer(array2):\n",
    "    print(i)"
   ]
  },
  {
   "cell_type": "markdown",
   "id": "ff31c886",
   "metadata": {},
   "source": [
    "### Basic Arthematic operations of numpy"
   ]
  },
  {
   "cell_type": "code",
   "execution_count": 38,
   "id": "2db739b9",
   "metadata": {},
   "outputs": [],
   "source": [
    "aray1=np.array([1,2,3,4,5,6])\n",
    "aray2=np.array([4,5,6,7,8,9])"
   ]
  },
  {
   "cell_type": "code",
   "execution_count": 39,
   "id": "fb8b2c14",
   "metadata": {},
   "outputs": [
    {
     "data": {
      "text/plain": [
       "array([ 5,  7,  9, 11, 13, 15])"
      ]
     },
     "execution_count": 39,
     "metadata": {},
     "output_type": "execute_result"
    }
   ],
   "source": [
    "aray1+aray2"
   ]
  },
  {
   "cell_type": "code",
   "execution_count": 40,
   "id": "e4192553",
   "metadata": {},
   "outputs": [
    {
     "data": {
      "text/plain": [
       "array([ 4, 10, 18, 28, 40, 54])"
      ]
     },
     "execution_count": 40,
     "metadata": {},
     "output_type": "execute_result"
    }
   ],
   "source": [
    "aray1*aray2"
   ]
  },
  {
   "cell_type": "code",
   "execution_count": 41,
   "id": "7941e63c",
   "metadata": {},
   "outputs": [
    {
     "data": {
      "text/plain": [
       "array([12, 15, 18, 21, 24, 27])"
      ]
     },
     "execution_count": 41,
     "metadata": {},
     "output_type": "execute_result"
    }
   ],
   "source": [
    "aray2*3\n"
   ]
  },
  {
   "cell_type": "code",
   "execution_count": 42,
   "id": "990a5146",
   "metadata": {},
   "outputs": [
    {
     "data": {
      "text/plain": [
       "array([False,  True,  True,  True,  True,  True])"
      ]
     },
     "execution_count": 42,
     "metadata": {},
     "output_type": "execute_result"
    }
   ],
   "source": [
    "aray1>1"
   ]
  },
  {
   "cell_type": "code",
   "execution_count": 43,
   "id": "fbaf89de",
   "metadata": {},
   "outputs": [],
   "source": [
    "aray3=np.arange(6).reshape(2,3)\n",
    "aray4=np.arange(6,12).reshape(3,2)"
   ]
  },
  {
   "cell_type": "code",
   "execution_count": 44,
   "id": "17b4d7cd",
   "metadata": {},
   "outputs": [
    {
     "data": {
      "text/plain": [
       "array([[ 28,  31],\n",
       "       [100, 112]])"
      ]
     },
     "execution_count": 44,
     "metadata": {},
     "output_type": "execute_result"
    }
   ],
   "source": [
    "aray3.dot(aray4)"
   ]
  },
  {
   "cell_type": "code",
   "execution_count": 45,
   "id": "8453e56c",
   "metadata": {},
   "outputs": [
    {
     "data": {
      "text/plain": [
       "array([[ 6,  7],\n",
       "       [ 8,  9],\n",
       "       [10, 11]])"
      ]
     },
     "execution_count": 45,
     "metadata": {},
     "output_type": "execute_result"
    }
   ],
   "source": [
    "aray4"
   ]
  },
  {
   "cell_type": "code",
   "execution_count": 46,
   "id": "c5000f33",
   "metadata": {},
   "outputs": [
    {
     "data": {
      "text/plain": [
       "11"
      ]
     },
     "execution_count": 46,
     "metadata": {},
     "output_type": "execute_result"
    }
   ],
   "source": [
    "aray4.max()"
   ]
  },
  {
   "cell_type": "code",
   "execution_count": 47,
   "id": "784e48e4",
   "metadata": {},
   "outputs": [
    {
     "data": {
      "text/plain": [
       "6"
      ]
     },
     "execution_count": 47,
     "metadata": {},
     "output_type": "execute_result"
    }
   ],
   "source": [
    "aray4.min()"
   ]
  },
  {
   "cell_type": "code",
   "execution_count": 48,
   "id": "7d468023",
   "metadata": {},
   "outputs": [
    {
     "data": {
      "text/plain": [
       "array([6, 7])"
      ]
     },
     "execution_count": 48,
     "metadata": {},
     "output_type": "execute_result"
    }
   ],
   "source": [
    "aray4.min(axis=0)"
   ]
  },
  {
   "cell_type": "code",
   "execution_count": 49,
   "id": "4c9ac8fe",
   "metadata": {},
   "outputs": [
    {
     "data": {
      "text/plain": [
       "array([ 6,  8, 10])"
      ]
     },
     "execution_count": 49,
     "metadata": {},
     "output_type": "execute_result"
    }
   ],
   "source": [
    "aray4.min(axis=1)"
   ]
  },
  {
   "cell_type": "code",
   "execution_count": 50,
   "id": "3b92c5b4",
   "metadata": {},
   "outputs": [
    {
     "data": {
      "text/plain": [
       "51"
      ]
     },
     "execution_count": 50,
     "metadata": {},
     "output_type": "execute_result"
    }
   ],
   "source": [
    "aray4.sum()"
   ]
  },
  {
   "cell_type": "code",
   "execution_count": 51,
   "id": "8cda8b71",
   "metadata": {},
   "outputs": [
    {
     "data": {
      "text/plain": [
       "array([13, 17, 21])"
      ]
     },
     "execution_count": 51,
     "metadata": {},
     "output_type": "execute_result"
    }
   ],
   "source": [
    "aray4.sum(axis=1)"
   ]
  },
  {
   "cell_type": "code",
   "execution_count": 52,
   "id": "beb164f0",
   "metadata": {},
   "outputs": [
    {
     "data": {
      "text/plain": [
       "1.707825127659933"
      ]
     },
     "execution_count": 52,
     "metadata": {},
     "output_type": "execute_result"
    }
   ],
   "source": [
    "aray4.std()"
   ]
  },
  {
   "cell_type": "code",
   "execution_count": 53,
   "id": "f0d4d5fe",
   "metadata": {},
   "outputs": [
    {
     "data": {
      "text/plain": [
       "array([ 0,  1,  2,  3,  4,  5,  6,  7,  8,  9, 10, 11, 12, 13, 14, 15, 16,\n",
       "       17, 18, 19, 20, 21, 22, 23, 24, 25, 26, 27, 28, 29, 30, 31, 32, 33,\n",
       "       34, 35, 36, 37, 38, 39, 40, 41, 42, 43, 44, 45, 46, 47, 48, 49])"
      ]
     },
     "execution_count": 53,
     "metadata": {},
     "output_type": "execute_result"
    }
   ],
   "source": [
    "aray5=np.arange(50)\n",
    "aray5"
   ]
  },
  {
   "cell_type": "code",
   "execution_count": 54,
   "id": "7cb2f059",
   "metadata": {},
   "outputs": [
    {
     "data": {
      "text/plain": [
       "24.5"
      ]
     },
     "execution_count": 54,
     "metadata": {},
     "output_type": "execute_result"
    }
   ],
   "source": [
    "np.median(aray5)"
   ]
  },
  {
   "cell_type": "markdown",
   "id": "8a9e12b7",
   "metadata": {},
   "source": [
    "### Reshaping Numpy arrays."
   ]
  },
  {
   "cell_type": "code",
   "execution_count": 55,
   "id": "4a0955f0",
   "metadata": {},
   "outputs": [],
   "source": [
    "# ravel()\n",
    "# resape()\n",
    "# Transpose()\n",
    "# "
   ]
  },
  {
   "cell_type": "code",
   "execution_count": 56,
   "id": "978c4f5d",
   "metadata": {},
   "outputs": [
    {
     "data": {
      "text/plain": [
       "array([[ 6,  7],\n",
       "       [ 8,  9],\n",
       "       [10, 11]])"
      ]
     },
     "execution_count": 56,
     "metadata": {},
     "output_type": "execute_result"
    }
   ],
   "source": [
    "aray4"
   ]
  },
  {
   "cell_type": "code",
   "execution_count": 57,
   "id": "76328536",
   "metadata": {},
   "outputs": [
    {
     "data": {
      "text/plain": [
       "2"
      ]
     },
     "execution_count": 57,
     "metadata": {},
     "output_type": "execute_result"
    }
   ],
   "source": [
    "aray4.ndim"
   ]
  },
  {
   "cell_type": "code",
   "execution_count": 58,
   "id": "a2c9ae72",
   "metadata": {},
   "outputs": [
    {
     "data": {
      "text/plain": [
       "array([ 6,  7,  8,  9, 10, 11])"
      ]
     },
     "execution_count": 58,
     "metadata": {},
     "output_type": "execute_result"
    }
   ],
   "source": [
    "aray4.ravel()"
   ]
  },
  {
   "cell_type": "code",
   "execution_count": 59,
   "id": "ddaa88ff",
   "metadata": {},
   "outputs": [
    {
     "data": {
      "text/plain": [
       "array([[ 6,  7,  8],\n",
       "       [ 9, 10, 11]])"
      ]
     },
     "execution_count": 59,
     "metadata": {},
     "output_type": "execute_result"
    }
   ],
   "source": [
    "aray4.reshape(2,3)"
   ]
  },
  {
   "cell_type": "code",
   "execution_count": 60,
   "id": "4946a831",
   "metadata": {},
   "outputs": [
    {
     "data": {
      "text/plain": [
       "array([ 0,  1,  2,  3,  4,  5,  6,  7,  8,  9, 10, 11, 12, 13, 14, 15, 16,\n",
       "       17, 18, 19, 20, 21, 22, 23, 24, 25, 26, 27, 28, 29, 30, 31, 32, 33,\n",
       "       34, 35, 36, 37, 38, 39, 40, 41, 42, 43, 44, 45, 46, 47, 48, 49])"
      ]
     },
     "execution_count": 60,
     "metadata": {},
     "output_type": "execute_result"
    }
   ],
   "source": [
    "aray5"
   ]
  },
  {
   "cell_type": "code",
   "execution_count": 61,
   "id": "aba12769",
   "metadata": {},
   "outputs": [
    {
     "data": {
      "text/plain": [
       "array([ 0,  1,  2,  3,  4,  5,  6,  7,  8,  9, 10, 11, 12, 13, 14, 15, 16,\n",
       "       17, 18, 19, 20, 21, 22, 23, 24, 25, 26, 27, 28, 29, 30, 31, 32, 33,\n",
       "       34, 35, 36, 37, 38, 39, 40, 41, 42, 43, 44, 45, 46, 47, 48, 49])"
      ]
     },
     "execution_count": 61,
     "metadata": {},
     "output_type": "execute_result"
    }
   ],
   "source": [
    "aray5.transpose()"
   ]
  },
  {
   "cell_type": "code",
   "execution_count": 62,
   "id": "aa4656ac",
   "metadata": {},
   "outputs": [
    {
     "data": {
      "text/plain": [
       "array([[ 6,  8, 10],\n",
       "       [ 7,  9, 11]])"
      ]
     },
     "execution_count": 62,
     "metadata": {},
     "output_type": "execute_result"
    }
   ],
   "source": [
    "aray4.transpose()"
   ]
  },
  {
   "cell_type": "code",
   "execution_count": 63,
   "id": "2b77245b",
   "metadata": {},
   "outputs": [
    {
     "data": {
      "text/plain": [
       "array([[ 0,  1,  2,  3],\n",
       "       [ 4,  5,  6,  7],\n",
       "       [ 8,  9, 10, 11],\n",
       "       [12, 13, 14, 15],\n",
       "       [16, 17, 18, 19],\n",
       "       [20, 21, 22, 23]])"
      ]
     },
     "execution_count": 63,
     "metadata": {},
     "output_type": "execute_result"
    }
   ],
   "source": [
    "aray6=np.arange(24).reshape(6,4)\n",
    "aray6"
   ]
  },
  {
   "cell_type": "code",
   "execution_count": 64,
   "id": "075536a1",
   "metadata": {},
   "outputs": [
    {
     "data": {
      "text/plain": [
       "array([[ 0,  1,  2,  3],\n",
       "       [ 8,  9, 10, 11],\n",
       "       [16, 17, 18, 19]])"
      ]
     },
     "execution_count": 64,
     "metadata": {},
     "output_type": "execute_result"
    }
   ],
   "source": [
    "# fancing indexing.\n",
    "\n",
    "aray6[[0,2,4]]"
   ]
  },
  {
   "cell_type": "code",
   "execution_count": 65,
   "id": "1d416db1",
   "metadata": {},
   "outputs": [
    {
     "data": {
      "text/plain": [
       "array([0.27898074, 0.39088517, 0.71551791, 0.69261859, 0.42133472,\n",
       "       0.78333356, 0.49541769, 0.92428505, 0.59368925, 0.88664379,\n",
       "       0.02751424, 0.54870068, 0.07947137, 0.34519518, 0.64463683,\n",
       "       0.51078513, 0.61011891, 0.74586839, 0.04869774, 0.81162314,\n",
       "       0.05474713, 0.11343729, 0.29280919, 0.34038567, 0.53427285,\n",
       "       0.18752461, 0.88924215, 0.99030243, 0.33917257, 0.20844418,\n",
       "       0.38820541, 0.34892556, 0.33848183, 0.98291591, 0.80396035,\n",
       "       0.91877991, 0.91464082, 0.70575788, 0.80132449, 0.13924208,\n",
       "       0.66591078, 0.3143397 , 0.9668544 , 0.18914961, 0.70719355,\n",
       "       0.63322175, 0.00651289, 0.60891328, 0.50742691, 0.85828412,\n",
       "       0.05746859, 0.32483689, 0.83769996, 0.93768625, 0.79752354,\n",
       "       0.41116059, 0.33063479, 0.67564902, 0.65663048, 0.57948724,\n",
       "       0.84768819, 0.62360568, 0.51028854, 0.72405524, 0.18700421,\n",
       "       0.53887607, 0.83703193, 0.16759449, 0.52295903, 0.87762241,\n",
       "       0.71403811, 0.13548885, 0.68175464, 0.03184868, 0.80177469,\n",
       "       0.35858537, 0.52419182, 0.98451492, 0.277717  , 0.16447627,\n",
       "       0.33484499, 0.39598667, 0.78579258, 0.98285624, 0.66526194,\n",
       "       0.38326   , 0.26724269, 0.00641942, 0.86751777, 0.88790015,\n",
       "       0.15788945, 0.38009683, 0.17765185, 0.36817264, 0.57431587,\n",
       "       0.63169539, 0.29120438, 0.53486124, 0.71072783, 0.96368977])"
      ]
     },
     "execution_count": 65,
     "metadata": {},
     "output_type": "execute_result"
    }
   ],
   "source": [
    "arr=np.random.rand(100)\n",
    "arr"
   ]
  },
  {
   "cell_type": "code",
   "execution_count": null,
   "id": "f075fc07",
   "metadata": {},
   "outputs": [],
   "source": []
  }
 ],
 "metadata": {
  "kernelspec": {
   "display_name": "Python 3 (ipykernel)",
   "language": "python",
   "name": "python3"
  },
  "language_info": {
   "codemirror_mode": {
    "name": "ipython",
    "version": 3
   },
   "file_extension": ".py",
   "mimetype": "text/x-python",
   "name": "python",
   "nbconvert_exporter": "python",
   "pygments_lexer": "ipython3",
   "version": "3.10.9"
  }
 },
 "nbformat": 4,
 "nbformat_minor": 5
}
